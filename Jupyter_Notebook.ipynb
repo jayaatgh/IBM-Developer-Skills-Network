{
 "cells": [
  {
   "cell_type": "markdown",
   "metadata": {},
   "source": [
    "<center>\n",
    "    <img src=\"https://s3-api.us-geo.objectstorage.softlayer.net/cf-courses-data/CognitiveClass/Logos/organization_logo/organization_logo.png\" width=\"300\" alt=\"cognitiveclass.ai logo\"  />\n",
    "</center>\n"
   ]
  },
  {
   "cell_type": "markdown",
   "metadata": {},
   "source": [
    "#### Add your code below following the instructions given in the course\n"
   ]
  },
  {
   "cell_type": "markdown",
   "metadata": {
    "tags": []
   },
   "source": [
    "# My Jupyter Notebook on IBM Watson Studio"
   ]
  },
  {
   "cell_type": "markdown",
   "metadata": {},
   "source": [
    "**Trevor Zimmerman**\n",
    "<br>Desired Occupation: Data Analyst"
   ]
  },
  {
   "cell_type": "markdown",
   "metadata": {},
   "source": [
    "*I am interested in data science because when it is utilized appropriately it can aid in making well-informed decisions in a broad range of industries. These decisions can have an impact at the individual level, organization level, a societal level, or even a global scale. I personally was first acquainted with and fascinated by data science when I learned someone was using it to determine the optimal conditions for road ice formation. From the models built in that study they were able to advise local transportation crews about the best time to deploy salt trucks. This ended up saving one locality thousands of dollars in salt. To me, data science is the perfect blend of statistics, computing and programming, scientific inquiry, and communication skills that I desire in a career. I would love to be part of a group that utilizes data to provide a societal benefit.*"
   ]
  },
  {
   "cell_type": "markdown",
   "metadata": {},
   "source": [
    "### The following code utilizes a calculation to determine the nearest whole number of cells per microliter of fluid counted in a hemocytometer. This is a calculation I used on a daily basis at my previous job. Feel free to change the numbers to your liking and see what output you get!"
   ]
  },
  {
   "cell_type": "code",
   "execution_count": 2,
   "metadata": {},
   "outputs": [
    {
     "name": "stdout",
     "output_type": "stream",
     "text": [
      "The total number of cells is:\n",
      "\t17 cells/uL\n"
     ]
    }
   ],
   "source": [
    "N = 15 # average number of cells visually detected by microscopist after counting both sides of the hemocytometer.\n",
    "dilution_factor = 1 # the denominator of the dilution used; if no dilution performed use 1\n",
    "area_counted = 9 # derived from: large square * 1 mm * 1 mm; see note about small RBC squares below. \n",
    "depth = 10 # the reciprocal of 0.1 mm\n",
    "\n",
    "# The formula\n",
    "total_cells_counted = round(((N*dilution_factor)/area_counted)*depth)\n",
    "\n",
    "print(f\"The total number of cells is:\\n\\t{total_cells_counted} cells/uL\")"
   ]
  },
  {
   "cell_type": "markdown",
   "metadata": {},
   "source": [
    "### Visual Guides to the Hemocytometer\n",
    "___\n",
    "#### This is what a typical hemocytometer looks like. It has two counting chambers. \n",
    "![image](https://www.hemocytometer.org/wp-content/uploads/2016/01/hemocytometer-price.jpeg)\n",
    "\n",
    "#### This is how the counting chamber of one side of a hemocytometer looks under the microscope.\n",
    "![image](https://agristudentbikash.files.wordpress.com/2015/06/counting-chamber.jpg)\n",
    "\n",
    "#### The areas shaded in blue are typically used to count white blood cells (WBCs), while the areas shaded in red are typically used to count red blood cells (RBCs).\n",
    "![image](https://www.medicine.mcgill.ca/physio/vlab/bloodlab/images/grid.gif)\n",
    "\n",
    "### Things to keep in mind about cell counting with a hemocytometer\n",
    "__1.__ Both chambers must be counted for each cell type.\n",
    "   + If **less** than 50 cells are seen the two sides must agree within +/- 4 of each other. \n",
    "   + If **more** than 50 cells are seen the two sides must agree within 10% of each other.\n",
    "   + Agreement between both sides serves as internal quality control for making sure proper procedure was used in performing the cell count.<br>\n",
    "     \n",
    "__2.__ There are 25 small squares in 1 sq mm in the RBC counting area. Since RBCs are typically counted using 5 of the small squares the area counted is equal to 5/25 which simplifies to 1/5 or 0.2. Use 0.2 in the equation for area counted if the small RBC squares are used.  \n",
    "\n",
    "__3.__ Within squares do not count cells that are touching or crossing the right or top border.\n",
    "   * This prevents double counting cells, thereby making the count inaccurate.\n",
    "\n",
    "__4.__ Troubleshooting \n",
   
    " |Situation|Solution|\n",
    " |:-------:|:------:|\n",
    " |Bubbles in counting chamber|Remove fluid from the counting chamber and recharge the chambers with fluid|\n",
    " |Fluid runs off the edge of the counting chamber| Remove fluid from the counting chamber and recharge the chambers with fluid|\n",
    " |Fluid is from a joint and is viscous|Add hyaluronidase to an aliqot of the fluid prior to adding fluid to the chambers|\n",
    " |Cells are moving around under the microscope|Wait 3 to 5 minutes after adding fluid to the chambers to give cells time to settle|\n",
    " |Cells are overlapping with each other|Perform a higher dilution prior to adding fluid to the chambers|\n",
    " |Cells are sparse or absent after dilution|Possible over-dilution; retry with a lower dilution|\n",
    " |Cells have uneven distribution in counting chamber|Ensure the fluid is well mixed prior to adding ~~fluid~~ it to the chambers|\n",
    " |Cellular clumps are present|Try diluting but if it does not clear then simply note cell clumps as present during a count|\n",
    "\n",
    "___\n",
    " ### Additional Resources\n",
    "[Hemocytometer cell counts with CSF](https://www.labce.com/spg546396_examining_csf_using_the_hemocytometer_continued.aspx, \"https://www.labce.com\")\n",
    "\n",
    "[Hemocytometer red blood cell counting](https://paramedicsworld.com/hematology-practicals/total-red-blood-cell-rbc-count-using-hemocytometer-neubauer-chamber-microdilution-macrodilution/medical-paramedical-studynotes, \"https://paramedicsworld.com/hematology-practicals\")\n",
    "\n",
    "[A helpful YouTube video that goes over many of the concepts presented in this notebook](https://www.youtube.com/watch?v=xyhbIPSLBsA, \"https://www.youtube.com\")\n"
   ]
  },
  {
   "cell_type": "code",
   "execution_count": null,
   "metadata": {},
   "outputs": [],
   "source": []
  }
 ],
 "metadata": {
  "kernelspec": {
   "display_name": "Python",
   "language": "python",
   "name": "conda-env-python-py"
  },
  "language_info": {
   "codemirror_mode": {
    "name": "ipython",
    "version": 3
   },
   "file_extension": ".py",
   "mimetype": "text/x-python",
   "name": "python",
   "nbconvert_exporter": "python",
   "pygments_lexer": "ipython3",
   "version": "3.7.12"
  }
 },
 "nbformat": 4,
 "nbformat_minor": 4
}
